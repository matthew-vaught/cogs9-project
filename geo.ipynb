{
 "cells": [
  {
   "cell_type": "code",
   "execution_count": 1,
   "id": "513f9fc8",
   "metadata": {},
   "outputs": [
    {
     "name": "stderr",
     "output_type": "stream",
     "text": [
      "c:\\Users\\ryant\\AppData\\Local\\Programs\\Python\\Python312\\Lib\\site-packages\\fuzzywuzzy\\fuzz.py:11: UserWarning: Using slow pure-python SequenceMatcher. Install python-Levenshtein to remove this warning\n",
      "  warnings.warn('Using slow pure-python SequenceMatcher. Install python-Levenshtein to remove this warning')\n"
     ]
    }
   ],
   "source": [
    "import geopandas as gpd\n",
    "import pandas as pd\n",
    "import matplotlib.pyplot as plt\n",
    "import seaborn as sns\n",
    "from fuzzywuzzy import fuzz, process\n",
    "\n",
    "def make_choropleths(df, country_col, col1, col2, shapefile_path):\n",
    "    # Load shapefile\n",
    "    world = gpd.read_file(shapefile_path)\n",
    "    shapefile_countries = world['ADMIN'].unique()\n",
    "\n",
    "    # Match country names\n",
    "    def match_country(name):\n",
    "        match = process.extractOne(name, shapefile_countries, scorer=fuzz.partial_ratio)\n",
    "        if match and match[1] > 80:\n",
    "            return match[0]\n",
    "        return None\n",
    "\n",
    "    df = df.copy()\n",
    "    df['Mapped Country'] = df[country_col].apply(match_country)\n",
    "\n",
    "    # Merge\n",
    "    merged = world.merge(df, how=\"left\", left_on=\"ADMIN\", right_on=\"Mapped Country\")\n",
    "\n",
    "    # Plotting\n",
    "    sns.set_theme(style=\"whitegrid\")\n",
    "    plt.rcParams['font.family'] = 'Georgia'\n",
    "    plt.rcParams['axes.facecolor'] = '#f5f5f5'\n",
    "\n",
    "    fig, ax = plt.subplots(1, 2, figsize=(20, 12))\n",
    "\n",
    "    for i, column in enumerate([col1, col2]):\n",
    "        merged.boundary.plot(ax=ax[i], linewidth=0.8, color='black')\n",
    "        merged.plot(\n",
    "            column=column,\n",
    "            ax=ax[i],\n",
    "            legend=True,\n",
    "            legend_kwds={'label': column, 'orientation': \"horizontal\"},\n",
    "            cmap='YlGnBu' if i else 'YlOrRd',\n",
    "            missing_kwds={\"color\": \"lightgrey\", \"label\": \"No data\"}\n",
    "        )\n",
    "        ax[i].set_title(f\"{column} by Country\", fontsize=18, fontweight='bold')\n",
    "        ax[i].axis('off')\n",
    "\n",
    "    plt.tight_layout()\n",
    "    plt.show()"
   ]
  },
  {
   "cell_type": "code",
   "execution_count": 2,
   "id": "b5ccb1cc",
   "metadata": {},
   "outputs": [],
   "source": [
    "shapefile_path = \"data/ne_110m_admin_0_countries/ne_110m_admin_0_countries.shp\"\n"
   ]
  },
  {
   "cell_type": "code",
   "execution_count": null,
   "id": "718413bf",
   "metadata": {},
   "outputs": [],
   "source": []
  }
 ],
 "metadata": {
  "kernelspec": {
   "display_name": "Python 3",
   "language": "python",
   "name": "python3"
  },
  "language_info": {
   "codemirror_mode": {
    "name": "ipython",
    "version": 3
   },
   "file_extension": ".py",
   "mimetype": "text/x-python",
   "name": "python",
   "nbconvert_exporter": "python",
   "pygments_lexer": "ipython3",
   "version": "3.12.1"
  }
 },
 "nbformat": 4,
 "nbformat_minor": 5
}
